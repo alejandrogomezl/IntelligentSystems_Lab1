{
 "cells": [
  {
   "cell_type": "markdown",
   "metadata": {},
   "source": [
    "# Intelligent Systems\n",
    "\n",
    "## Academic year 2024-2025\n",
    "\n",
    "### Lab 1: State space search\n",
    "\n",
    "#### Teachers\n",
    "\n",
    "* Juan Carlos Alfaro Jimenez: JuanCarlos.Alfaro@uclm.es\n",
    "* Maria Julia Flores Gallego: Julia.Flores@uclm.es\n",
    "* Ismael Garcia Varea: Ismael.Garcia@uclm.es\n",
    "* Adrian Rodriguez Lopez: Adrian.Rodriguez18@alu.uclm.es"
   ]
  },
  {
   "cell_type": "markdown",
   "metadata": {
    "datalore": {
     "hide_input_from_viewers": false,
     "hide_output_from_viewers": false,
     "node_id": "BJiz7lonyeROocVlcYrKWu",
     "type": "MD"
    }
   },
   "source": [
    "## Autonomous driving!"
   ]
  },
  {
   "cell_type": "markdown",
   "metadata": {
    "datalore": {
     "hide_input_from_viewers": false,
     "hide_output_from_viewers": false,
     "node_id": "BJiz7lonyeROocVlcYrKWu",
     "type": "MD"
    }
   },
   "source": [
    "## 1. Introduction\n",
    "\n",
    "Within the framework of a pilot project of the **Ministry of Transport and Sustainable Mobility**, the aim of which is to provide a personalised urban transport service for people with reduced mobility, we have been commissioned to study the deployment of a fleet of autonomous vehicles in different towns and cities of the country based on a series of indicators: population size, population density, demand for the service, etc. These autonomous vehicles must have an intelligent driving system that allows said vehicles to carry a series of people from a point of origin to their destination safely and efficiently.\n",
    "\n",
    "Related to this project, **for the moment, we are asked to design an algorithm that is capable of optimizing the transportation of a person from a place of origin to a specific destination** within a city. In this scenario, the autonomous vehicle will have to navigate a network of urban streets and intersections, where all routes are potentially valid. However, **the system must optimize the path selection** not only to find a valid route, but also to **minimize the travel time**. This implies that the artificial intelligence must consider factors such as distance, the speed allowed on each street and any other relevant factor that may affect the total travel time."
   ]
  },
  {
   "cell_type": "markdown",
   "metadata": {},
   "source": [
    "### 1.1. Goals of this lab assignment\n",
    "\n",
    "* Implement **breadth-first** and **depth-first** uninformed search strategies to find a path from a starting point to a destination location.\n",
    "\n",
    "* Implement **best first** and **A\\*** informed search strategies using appropriate heuristics to solve the problem at hand.\n",
    "\n",
    "In this work we will put into practice state space search techniques. To do so, we will implement and use some of the algorithms seen in topics two and three to solve a classic problem, that is, searching for routes in a graph.\n",
    "\n",
    "We will also analyze and compare the performance of the algorithms by running them on different instances of the problem and providing different initial and objective states.\n",
    "\n",
    "We hope this hands-on practice helps you deepen your understanding of AI search strategies and encourages you to think about how these techniques can be applied in real-world situations to aid in navigation operations and other critical tasks.\n",
    "\n",
    "**Good luck!**"
   ]
  },
  {
   "cell_type": "markdown",
   "metadata": {
    "datalore": {
     "hide_input_from_viewers": false,
     "hide_output_from_viewers": false,
     "node_id": "kf129lUYKXkYfl7kIPcDlq",
     "type": "MD"
    }
   },
   "source": [
    "## 2. Problem description\n",
    "\n",
    "You will have to solve a problem in which an autonomous vehicle must find the fastest route between any two intersections in a city. The search space is defined by an urban road system where the vehicle can move in several directions to reach its destination.\n",
    "\n",
    "More formally, the problem can be defined as:\n",
    "\n",
    "* Initial state: A starting point that represents the vehicle's initial intersection.\n",
    "* States: All intersections in the city are valid for traffic and can be visited by vehicle.\n",
    "* Final state: Arriving at the destination intersection.\n",
    "* Actions: Move from one intersection to another (that must be linked) through the city streets."
   ]
  },
  {
   "cell_type": "markdown",
   "metadata": {},
   "source": [
    "### 2.1. Illustrative example\n",
    "\n",
    "A possible example of this problem could be the one shown in the following image, which shows a part of the city of Albacete:\n",
    "\n",
    "![title](figures/small/paseo_simón_abril_albacete_250_1.png)\n",
    "\n",
    "In this case, the objective would be to go from the intersection with identifier `621983933`, represented in green; to the intersection with identifier `1322977378`, represented in blue.\n",
    "\n",
    "---\n",
    "\n",
    "##### Notes:\n",
    "\n",
    "* The file containing the image must be saved in the path indicated in the code for this cell.\n",
    "\n",
    "---"
   ]
  },
  {
   "cell_type": "markdown",
   "metadata": {
    "datalore": {
     "hide_input_from_viewers": false,
     "hide_output_from_viewers": false,
     "node_id": "6gYL6VoT3okFgLpKvyyAq7",
     "type": "MD"
    }
   },
   "source": [
    "## 3. Development of the lab assignment\n",
    "\n",
    "During the development of this lab, a set of problem instances will be provided. The dimensionality will be variable, and the algorithms implemented must be efficient enough to work correctly with all the instances provided. In the evaluation of the practice, it will be carried out with scenarios different from those provided, generated automatically and of different dimensionality."
   ]
  },
  {
   "cell_type": "markdown",
   "metadata": {},
   "source": [
    "### 3.1 Input Problems\n",
    "\n",
    "Each scenario will be given in a file in `json` format that contains the following information, following the format of a dictionary whose keys are:\n",
    "\n",
    "* `address`: Address used\n",
    "* `distance`: Maximum radius used to draw intersections and segments around the address\n",
    "* `intersections`: List of dictionaries with information on intersections\n",
    "* `segments`: List of dictionaries with information about segments, that is, streets between two intersections\n",
    "* `initial`: Initial intersection\n",
    "* `final`: Final intersection\n",
    "\n",
    "In each dictionary in `intersections`, there are three keys:\n",
    "\n",
    "* `identifier`: Intersection identifier\n",
    "* `longitude`: Length of the intersection\n",
    "* `latitude`: Latitude of the intersection\n",
    "\n",
    "In each dictionary in `segments`, there are four keys:\n",
    "\n",
    "* `origin`: Origin intersection\n",
    "* `destination`: Destination intersection\n",
    "* `distance`: Distance between the two intersections\n",
    "* `speed`: Maximum speed allowed between the two intersections"
   ]
  },
  {
   "cell_type": "markdown",
   "metadata": {
    "datalore": {
     "hide_input_from_viewers": false,
     "hide_output_from_viewers": false,
     "node_id": "XqiqZwKKFJXYVAdvmfoLoK",
     "type": "MD"
    }
   },
   "source": [
    "## 4. Work plan"
   ]
  },
  {
   "cell_type": "markdown",
   "metadata": {},
   "source": [
    "### 4.1. Tasks\n",
    "\n",
    "* State space design:\n",
    "    * Describe how the state space, actions, and cost of actions will be represented.\n",
    "\n",
    "* Implementation of search strategies:\n",
    "    * Implement at least two uninformed search strategies.\n",
    "    * Implement at least two informed search strategies, using appropriate heuristics to find optimal routes.\n",
    "\n",
    "* Experimentation and analysis:\n",
    "    * Analyze the performance of the implemented strategies in terms of optimization of time, (memory) space and routes.\n",
    "    * Compare and contrast the results obtained from different search strategies.\n",
    "\n",
    "* Report:\n",
    "    * Write a report detailing the process followed, the strategies implemented and the results obtained.\n",
    "\n",
    "More details about each task are provided below."
   ]
  },
  {
   "cell_type": "markdown",
   "metadata": {},
   "source": [
    "### 4.2. Evaluation of the practice\n",
    "\n",
    "The evaluation of the practice will be carried out through an individual exam in which the following will be taken into account:\n",
    "\n",
    "* Correct implementation of search strategies: 50%\n",
    "* State space design and heuristics: 25%\n",
    "* Experimentation carried out and analysis of results: 25%\n",
    "\n",
    "All of this is weighted by the level of knowledge that the student offers of the practice in the exam, which is a personal interview."
   ]
  },
  {
   "cell_type": "markdown",
   "metadata": {},
   "source": [
    "### 4.3. Dates\n",
    "\n",
    "* Deadline to submit code: **October 31, 2024**\n",
    "* Deadline for submission of the report: **End of the semester**"
   ]
  },
  {
   "cell_type": "markdown",
   "metadata": {},
   "source": [
    "### 4.4. Problem formalization and examples\n",
    "\n",
    "First, route finding in a city must be formalized as a state-space search problem, defining its basic elements. All implementations must refer to graph search, so it is important to note that repeated states must be handled."
   ]
  },
  {
   "cell_type": "markdown",
   "metadata": {},
   "source": [
    "### 4.5. Implementation\n",
    "\n",
    "The implementation must be done in `Python` language. To do this, you must code your own class structure for formalizing the problem and then implement the algorithms studied in the theory classes to solve the search problem posed. It is recommended to create a class for each entity that defines a search problem, namely, state, action, node, problem, search, etc.\n",
    "\n",
    "**It is recommended to test each of the classes created after their implementation to verify their correct operation before integrating them into the rest of the code.**\n",
    "\n",
    "---\n",
    "\n",
    "##### Notes:\n",
    "\n",
    "* The order of the actions is determined by the destination state whose identifier is the lowest, that is, if different (partial) destinations can be reached at a given point (intersection), they will be visited in increasing numerical order.\n",
    "\n",
    "---"
   ]
  },
  {
   "cell_type": "markdown",
   "metadata": {
    "datalore": {
     "hide_input_from_viewers": false,
     "hide_output_from_viewers": false,
     "node_id": "6q3uoKPoKLFZnX2wHpx2mu",
     "type": "MD"
    }
   },
   "source": [
    "### 4.6. Study and improvement of algorithms\n",
    "\n",
    "Once the algorithms have been implemented, a study of their performance must be carried out. To do this, the quality of the solutions obtained must be compared, as well as the number of nodes expanded for instances of different sizes. Factors such as the maximum problem size that can be solved without causing memory overflow, or the effect of using more complex scenarios, are also important. In addition, alternative implementations can be proposed that increase the efficiency of the algorithms."
   ]
  },
  {
   "cell_type": "markdown",
   "metadata": {
    "datalore": {
     "hide_input_from_viewers": false,
     "hide_output_from_viewers": false,
     "node_id": "TN8nQpEQOYIQynu67Jy1ln",
     "type": "MD"
    }
   },
   "source": [
    "### 4.7. Report\n",
    "\n",
    "In addition to the notebook containing the implementation, the work consists of preparing a report, which will have a later delivery date. We recommend that this report is done at the same time as the lab assignment is developed, both for the code and for the part of studying and improving the algorithms.\n",
    "\n",
    "In particular, among other topics considered of interest to mention, the report must include at least:\n",
    "\n",
    "* A brief description of the problem, a description of the implementation, performance evaluation, and description of improvements, if any.\n",
    "\n",
    "* The formalization of the problem.\n",
    "\n",
    "* For informed search algorithms, at least two heuristics must be provided. In addition to their description and motivation, an analysis must be included indicating whether the proposed heuristic is considered admissible and consistent.\n",
    "\n",
    "* The study of the performance of the implemented algorithms should be based on testing the algorithms in several instances, presenting tables or graphs that summarize the results.\n",
    "\n",
    "**The report should not include figures with source code**, unless it is necessary to explain a key concept such as data structures, efficiency improvements, etc. In such cases, appropriately formatted pseudocode is permitted.\n",
    "\n",
    "**Screenshots are also not recommended**."
   ]
  },
  {
   "cell_type": "markdown",
   "metadata": {
    "datalore": {
     "hide_input_from_viewers": false,
     "hide_output_from_viewers": false,
     "node_id": "Tinwe1v9Wx9ZaC9NcMPB1a",
     "type": "MD"
    }
   },
   "source": [
    "## 5. Presentation and evaluation\n",
    "\n",
    "It is highly recommended to do the work in pairs, although it can be done individually. The exam or interviews for the evaluation will be held the week after the submission, and always individually.\n",
    "\n",
    "Some considerations related to evaluation:\n",
    "\n",
    "* This lab assigment accounts for 40% of the laboratory grade. Lab 2 will require the previous resolution of this part and accounts for 60%.\n",
    "\n",
    "* Attendance at the lab sessions is not mandatory, but it will be the best basis for successfully completing the practicals.\n",
    "\n",
    "* Remember that doubts and questions about laboratory assigments must be resolved mainly in laboratory sessions.\n",
    "\n",
    "* The work will be evaluated during an **individual interview** with the teachers. The dates of the interviews will be published in advance.\n",
    "\n",
    "* We will provide a set of preliminary test cases that must be solved correctly. Otherwise, the work will be considered ineligible for submission.\n",
    "\n",
    "* To obtain a score in the lab assignment you will have to answer, individually, a series of questions about the organization of the code and related issues.\n",
    "\n",
    "* **In non-continuous evaluation, the implementation of the same search strategies will be required plus**:\n",
    "    * Limited depth search\n",
    "    * Iterative depth-first search\n",
    "\n",
    "**Additional features may also be required**."
   ]
  },
  {
   "cell_type": "markdown",
   "metadata": {},
   "source": [
    "## 6. Solution\n",
    "\n",
    "You can find sorce code at: https://github.com/alejandrogomezl/IntelligentSystems_Lab1\n",
    "\n",
    "### 1. Import libraries\n"
   ]
  },
  {
   "cell_type": "code",
   "execution_count": null,
   "metadata": {},
   "outputs": [],
   "source": [
    "import json\n",
    "\n",
    "import networkx as nx\n",
    "import matplotlib.pyplot as plt\n",
    "\n",
    "from collections import deque\n",
    "import heapq\n",
    "import time\n",
    "import geopy.distance\n",
    "import itertools"
   ]
  },
  {
   "cell_type": "markdown",
   "metadata": {},
   "source": [
    "### 2. Class Definition"
   ]
  },
  {
   "cell_type": "markdown",
   "metadata": {},
   "source": [
    "#### 2.1. `State`\n",
    "Represents intersections with unique identifiers and geographic coordinates."
   ]
  },
  {
   "cell_type": "code",
   "execution_count": null,
   "metadata": {},
   "outputs": [],
   "source": [
    "class State:\n",
    "    def __init__(self, identifier, longitude=None, latitude=None):\n",
    "        \"\"\"\n",
    "        identifier: Identificador único de la intersección.\n",
    "        longitude: Longitud de la intersección (opcional).\n",
    "        latitude: Latitud de la intersección (opcional).\n",
    "        \"\"\"\n",
    "        self.identifier = identifier\n",
    "        self.longitude = longitude\n",
    "        self.latitude = latitude\n",
    "        self.neighbors = []\n",
    "    \n",
    "    def __eq__(self, other):\n",
    "        \"\"\"\n",
    "        Compara dos estados basados en su identificador.\n",
    "        \"\"\"\n",
    "        return isinstance(other, State) and self.identifier == other.identifier\n",
    "    \n",
    "    def __hash__(self):\n",
    "        \"\"\"\n",
    "        Permite que los estados sean utilizados en conjuntos y como claves en diccionarios.\n",
    "        \"\"\"\n",
    "        return hash(self.identifier)\n",
    "    \n",
    "    def __repr__(self):\n",
    "        \"\"\"\n",
    "        Representación amigable del estado, mostrando el identificador y las coordenadas.\n",
    "        \"\"\"\n",
    "        return f\"State(identifier={self.identifier}, longitude={self.longitude}, latitude={self.latitude})\""
   ]
  },
  {
   "cell_type": "markdown",
   "metadata": {},
   "source": [
    "### 2.2. `Action`\n",
    "Models road segments between intersections."
   ]
  },
  {
   "cell_type": "code",
   "execution_count": null,
   "metadata": {},
   "outputs": [],
   "source": [
    "class Action:\n",
    "    def __init__(self, origin, destination, distance, speed):\n",
    "        self.origin = origin\n",
    "        self.destination = destination\n",
    "        self.distance = distance\n",
    "        self.speed = speed / 3.6\n",
    "\n",
    "    def cost(self):\n",
    "        return self.distance / self.speed\n",
    "\n",
    "    def __repr__(self):\n",
    "        return f\"Action({self.origin.identifier} -> {self.destination.identifier}, distance={self.distance}, speed={self.speed})\""
   ]
  },
  {
   "cell_type": "markdown",
   "metadata": {},
   "source": [
    "### 2.3. `Node`\n",
    "Represents nodes in the search tree."
   ]
  },
  {
   "cell_type": "code",
   "execution_count": null,
   "metadata": {},
   "outputs": [],
   "source": [
    "class Node:\n",
    "    def __init__(self, state, parent=None, depth=0, cost=0):\n",
    "        self.state = state\n",
    "        self.parent = parent\n",
    "        self.depth = 0 if parent is None else parent.depth + 1\n",
    "        self.cost = cost\n",
    "    \n",
    "    def __eq__(self, other):\n",
    "        if isinstance(other, Node):\n",
    "            return self.state == other.state\n",
    "        return False\n",
    "    \n",
    "    def __hash__(self):\n",
    "        return hash(self.state)\n",
    "    \n",
    "    def __repr__(self):\n",
    "        return f\"Node(state={self.state}, depth={self.depth}, cost={self.cost})\"\n",
    "    \n",
    "    def expand(self, problem):\n",
    "        return [Node(next_state, self, self.depth + 1) for next_state in problem.get_successors(self.state)]\n",
    "    \n",
    "    def path(self):\n",
    "        node, path_back = self, []\n",
    "        while node:\n",
    "            path_back.append(node.state.identifier)\n",
    "            node = node.parent\n",
    "        return list(reversed(path_back))"
   ]
  },
  {
   "cell_type": "markdown",
   "metadata": {},
   "source": [
    "### 2.4. `Problem`\n",
    "Defines the problem structure with initial and goal states, and methods for expanding nodes."
   ]
  },
  {
   "cell_type": "code",
   "execution_count": null,
   "metadata": {},
   "outputs": [],
   "source": [
    "class Problem:\n",
    "    def __init__(self, initial_state, goal_state, intersections, segments):\n",
    "        self.initial_state = initial_state\n",
    "        self.goal_state = goal_state\n",
    "        self.intersections = (intersections)\n",
    "        self.segments = segments\n",
    "\n",
    "    def actions(self, state):\n",
    "        return state.neighbors\n",
    "\n",
    "    def result(self, state, action):\n",
    "        return action.destination\n",
    "\n",
    "    def goal_test(self, state):\n",
    "        return state == self.goal_state\n",
    "\n",
    "    def path_cost(self, cost_so_far, state1, action, state2):\n",
    "        return cost_so_far + action.cost()\n",
    "    \n",
    "    def get_initial_state(self):\n",
    "        return self.initial_state\n",
    "    \n",
    "    def is_goal(self, state):\n",
    "        return state == self.goal_state\n"
   ]
  },
  {
   "cell_type": "markdown",
   "metadata": {},
   "source": [
    "### 2.5. `Search`\n",
    "Implements the search algorithms (BFS, DFS, A*, Best-First)."
   ]
  },
  {
   "cell_type": "code",
   "execution_count": null,
   "metadata": {},
   "outputs": [],
   "source": [
    "class Search:\n",
    "    def __init__(self, problem):\n",
    "        self.problem = problem\n",
    "\n",
    "    #Breath First Search\n",
    "    def bfs(self):\n",
    "        start_time = time.perf_counter()\n",
    "        frontier = deque([Node(self.problem.get_initial_state())])  # Queue for nodes in frontier (First In Firs Out)\n",
    "        explored = set()    # Set of explored states\n",
    "        nodes_generated = 1\n",
    "        nodes_explored = 0\n",
    "        \n",
    "        while frontier:\n",
    "            node = frontier.popleft()    # Remove the first node from the queue\n",
    "            nodes_explored += 1        \n",
    "\n",
    "            # Check if the current node is the goal\n",
    "            if self.problem.is_goal(node.state):\n",
    "                execution_time = time.perf_counter() - start_time\n",
    "                return [node.path(), nodes_generated, nodes_explored, node.depth, node.cost, execution_time]\n",
    "\n",
    "            explored.add(node.state)    # Mark the state as explored\n",
    "\n",
    "            # Expand children of the current node\n",
    "            for child, action in node.state.neighbors:\n",
    "                # Add child nodes if they are not explored or in the frontier\n",
    "                if child not in explored and child not in frontier:\n",
    "                    child = Node(child, node, action, node.cost + action.cost())\n",
    "                    frontier.append(child)\n",
    "                    nodes_generated += 1\n",
    "\n",
    "        return None\n",
    "\n",
    "    #Depth First Search\n",
    "    def dfs(self):  \n",
    "        start_time = time.perf_counter()\n",
    "        frontier = [Node(self.problem.get_initial_state())] # Stack for nodes in frontier (Last In First Out)\n",
    "        explored = set()\n",
    "        nodes_generated = 1\n",
    "        nodes_explored = 0\n",
    "        \n",
    "        while frontier:\n",
    "            node = frontier.pop()    # Remove the last node from the stack (Last In First Out)\n",
    "            nodes_explored += 1        \n",
    "\n",
    "            # Check if the current node is the goal\n",
    "            if self.problem.is_goal(node.state):\n",
    "                execution_time = time.perf_counter() - start_time\n",
    "                return [node.path(), nodes_generated, nodes_explored, node.depth, node.cost, execution_time]\n",
    "\n",
    "            explored.add(node.state)    # Mark the state as explored\n",
    "\n",
    "            # Expand children of the current node\n",
    "            for child, action in node.state.neighbors:\n",
    "                if child not in explored and child not in frontier:\n",
    "                    child = Node(child, node, action, node.cost + action.cost())\n",
    "                    frontier.append(child)\n",
    "                    nodes_generated += 1\n",
    "\n",
    "        return None\n",
    "\n",
    "    \n",
    "    def heuristic(self, state, goal):\n",
    "        current = (state.latitude, state.longitude)\n",
    "        dest = (goal.latitude, goal.longitude)\n",
    "        dist = geopy.distance.distance(current, dest).meters\n",
    "        speed = 120 / 3.6\n",
    "        return dist / speed\n",
    "\n",
    "    # A* Search\n",
    "    def a_star(self):\n",
    "        # comparar por heuristica y si empata por nodo mas viejo (Usar el numero de nodo generado)\n",
    "        start_time = time.perf_counter()\n",
    "        counter = itertools.count()\n",
    "\n",
    "        # Initialize the frontier with the start node and its f(n) = g(n) + h(n)\n",
    "        frontier = []\n",
    "        start_node = Node(self.problem.get_initial_state())\n",
    "        g = 0\n",
    "        h = self.heuristic(start_node.state, self.problem.goal_state)\n",
    "        f = g + h\n",
    "        heapq.heappush(frontier, (f, next(counter), start_node))\n",
    "\n",
    "        explored = set()\n",
    "        nodes_generated = 1\n",
    "        nodes_explored = 0\n",
    "\n",
    "        frontier_cost = {start_node.state: f}    # Dictionary to store the f(n) cost of each node in the frontier\n",
    "\n",
    "        while frontier:\n",
    "            _, _, node = heapq.heappop(frontier)   # Remove the node with the lowest f(n)\n",
    "            nodes_explored += 1\n",
    "\n",
    "            # Check if the current node is the goal\n",
    "            if self.problem.is_goal(node.state):\n",
    "                execution_time = time.perf_counter() - start_time\n",
    "                return [node.path(), nodes_generated, nodes_explored, node.depth, node.cost, execution_time]\n",
    "\n",
    "            explored.add(node.state)    # Mark the state as explored\n",
    "\n",
    "            # Expand children\n",
    "            for child_state, action in node.state.neighbors:\n",
    "                # Add to frontier if it's a shorter path to the child\n",
    "                if child_state not in explored and (child_state not in frontier_cost or node.cost + action.cost() < frontier_cost[child_state]):\n",
    "                    g = node.cost + action.cost()    # Calculate new g(n) cost\n",
    "                    h = self.heuristic(child_state, self.problem.goal_state)    # Calculate new h(n) cost\n",
    "                    f = g + h    # Calculate new f(n) cost\n",
    "\n",
    "                    child_node = Node(child_state, node, action, g)\n",
    "                    frontier_cost[child_state] = g\n",
    "                    heapq.heappush(frontier, (f, next(counter), child_node))\n",
    "                    nodes_generated += 1\n",
    "\n",
    "        return None\n",
    "    \n",
    "    # Greedy Best First Search\n",
    "    def best_first(self):\n",
    "        start_time = time.perf_counter()\n",
    "        counter = itertools.count()\n",
    "\n",
    "        # Initialize the frontier with the start node and its f(n) = g(n) + h(n)\n",
    "        frontier = []\n",
    "        start_node = Node(self.problem.get_initial_state())\n",
    "        h = self.heuristic(start_node.state, self.problem.goal_state)\n",
    "        f = h\n",
    "        heapq.heappush(frontier, (f, next(counter), start_node))\n",
    "\n",
    "        explored = set()\n",
    "        nodes_generated = 1\n",
    "        nodes_explored = 0\n",
    "\n",
    "        while frontier:\n",
    "            _, _, node = heapq.heappop(frontier)   # Remove the node with the lowest f(n)\n",
    "            nodes_explored += 1\n",
    "\n",
    "            # Check if the current node is the goal\n",
    "            if self.problem.is_goal(node.state):\n",
    "                execution_time = time.perf_counter() - start_time\n",
    "                return [node.path(), nodes_generated, nodes_explored, node.depth, node.cost, execution_time]\n",
    "\n",
    "            explored.add(node.state)    # Mark the state as explored\n",
    "\n",
    "            # Expand children\n",
    "            for child_state, action in node.state.neighbors:\n",
    "                # Add to frontier if it's a shorter path to the child\n",
    "                if child_state not in explored:\n",
    "                    f = self.heuristic(child_state, self.problem.goal_state)    # Calculate new h(n) cost\n",
    "\n",
    "                    child_node = Node(child_state, node, action, f)\n",
    "                    heapq.heappush(frontier, (f, next(counter), child_node))\n",
    "                    nodes_generated += 1\n",
    "\n",
    "        return None"
   ]
  },
  {
   "cell_type": "markdown",
   "metadata": {},
   "source": [
    "### 2.6. `Graph` (Optional)\n",
    "This class visualizes the road network and solution paths."
   ]
  },
  {
   "cell_type": "code",
   "execution_count": null,
   "metadata": {},
   "outputs": [],
   "source": [
    "class GraphVisualizer:\n",
    "    def __init__(self, intersections, segments, solution_path):\n",
    "        self.intersections = intersections\n",
    "        self.segments = segments\n",
    "        self.solution_path = solution_path\n",
    "        self.graph = nx.Graph()\n",
    "        \n",
    "        self.create_graph()\n",
    "\n",
    "    def create_graph(self):\n",
    "        for state_id, state in self.intersections.items():\n",
    "            self.graph.add_node(state_id, pos=(state.longitude, state.latitude))\n",
    "        \n",
    "        for segment in self.segments:\n",
    "            self.graph.add_edge(segment.origin.identifier, segment.destination.identifier, weight=segment.distance)\n",
    "\n",
    "    def show_graph(self):\n",
    "        pos = nx.get_node_attributes(self.graph, 'pos')\n",
    "        \n",
    "        plt.figure(figsize=(10, 10))\n",
    "        nx.draw(self.graph, pos, node_size=5, node_color=\"skyblue\", font_size=10, with_labels=False, font_weight=\"normal\", edge_color=\"gray\")\n",
    "\n",
    "        if self.solution_path:\n",
    "            solution_edges = [(self.solution_path[i], self.solution_path[i+1]) for i in range(len(self.solution_path) - 1)]\n",
    "            nx.draw_networkx_edges(self.graph, pos, edgelist=solution_edges, edge_color=\"red\", width=2.5)\n",
    "        \n",
    "        plt.title(\"Grafo de Intersecciones y Camino de Solución\")\n",
    "        plt.show()"
   ]
  },
  {
   "cell_type": "markdown",
   "metadata": {},
   "source": [
    "## 3. Load data\n",
    "Include the loadJSON function to parse the JSON and initialize a Problem instance."
   ]
  },
  {
   "cell_type": "code",
   "execution_count": null,
   "metadata": {},
   "outputs": [],
   "source": [
    "def loadJSON(file_path):\n",
    "    with open(file_path, \"r\") as f:\n",
    "        data = json.load(f)\n",
    "\n",
    "    intersections = {}\n",
    "    for i_data in data[\"intersections\"]:\n",
    "        inter = State(\n",
    "            identifier=i_data[\"identifier\"],\n",
    "            latitude=i_data[\"latitude\"],\n",
    "            longitude=i_data[\"longitude\"],\n",
    "        )\n",
    "        intersections[inter.identifier] = inter\n",
    "\n",
    "    segments = []\n",
    "    for seg_data in data[\"segments\"]:\n",
    "        origin = intersections[seg_data[\"origin\"]]\n",
    "        destination = intersections[seg_data[\"destination\"]]\n",
    "        segment = Action(\n",
    "            origin=origin,\n",
    "            destination=destination,\n",
    "            distance=seg_data[\"distance\"],\n",
    "            speed=seg_data[\"speed\"],\n",
    "        )\n",
    "        segments.append(segment)\n",
    "        origin.neighbors.append((destination, segment))\n",
    "\n",
    "    initial_state = intersections[data[\"initial\"]]\n",
    "    goal_state = intersections[data[\"final\"]]\n",
    "\n",
    "    for state in intersections.values():\n",
    "        # Sort by id\n",
    "        state.neighbors.sort(key=lambda x: x[0].identifier, reverse=False)\n",
    "\n",
    "        # Sort by heuristic\n",
    "        #state.neighbors.sort(key=lambda x: heuristic(x[0], goal_state), reverse=False)\n",
    "\n",
    "        #Sort by distance\n",
    "        #state.neighbors.sort(key=lambda x: x[0].distance, reverse=False)\n",
    "        \n",
    "\n",
    "\n",
    "    return Problem(initial_state, goal_state, intersections, segments)"
   ]
  },
  {
   "cell_type": "markdown",
   "metadata": {},
   "source": [
    "## 4. Run\n",
    "### 4.1. `Main`"
   ]
  },
  {
   "cell_type": "code",
   "execution_count": null,
   "metadata": {},
   "outputs": [],
   "source": [
    "class Main:\n",
    "    def __init__(self, json_file, algorithm, print=False):\n",
    "        self.json_file = json_file\n",
    "        self.algorithm = algorithm\n",
    "        self.print = print\n",
    "\n",
    "    def time_format(self, seconds):\n",
    "        hours = int(seconds/3600)\n",
    "        minutes = int(seconds/60)\n",
    "        seconds = seconds%60\n",
    "        return f'{hours}:{minutes}:{seconds}'\n",
    "    \n",
    "    def if_solution(self, solution_node, problem):\n",
    "        if solution_node:\n",
    "            print(\"Generated Nodes:\", solution_node[1])\n",
    "            print(\"Expanded Nodes:\", solution_node[2])\n",
    "            print(\"Solution Lenght:\", solution_node[3])\n",
    "            print(\"Solution Cost:\", self.time_format(solution_node[4]))\n",
    "            print(\"Execution Time:\", self.time_format(solution_node[5]))\n",
    "            print(\"Solution Path:\", solution_node[0])\n",
    "            if self.print: GraphVisualizer(problem.intersections, problem.segments, solution_node[0]).show_graph()\n",
    "            \n",
    "        else:\n",
    "            print(\"No se encontró solución\")\n",
    "\n",
    "    def run(self):\n",
    "        problem = loadJSON(self.json_file)\n",
    "        search = Search(problem)\n",
    "\n",
    "        if self.algorithm == \"bfs\":\n",
    "            print(\"Breadth First Search\")\n",
    "            self.if_solution(search.bfs(), problem)\n",
    "        elif self.algorithm == \"dfs\":\n",
    "            print(\"Depth First Search\")\n",
    "            self.if_solution(search.dfs(), problem)\n",
    "        elif self.algorithm == \"a\":\n",
    "            print(\"A* Search\")\n",
    "            self.if_solution(search.a_star, problem)\n",
    "        elif self.algorithm == \"best\":\n",
    "            print(\"Best First Search\")\n",
    "            self.if_solution(search.best_first(), problem)\n",
    "        elif self.algorithm == \"all\":\n",
    "            print(\"Breadth First Search\")\n",
    "            self.if_solution(search.bfs(), problem)\n",
    "            print(\"\\nDepth First Search\")\n",
    "            self.if_solution(search.dfs(), problem)\n",
    "            print(\"\\nA* Search\")\n",
    "            self.if_solution(search.a_star(), problem)\n",
    "            print(\"\\nBest First Search\")\n",
    "            self.if_solution(search.best_first(), problem)\n",
    "            \n",
    "        else:\n",
    "            print(\"Invalid Algorithm\")"
   ]
  },
  {
   "cell_type": "markdown",
   "metadata": {},
   "source": []
  },
  {
   "cell_type": "markdown",
   "metadata": {},
   "source": [
    "### 4.2. Test de project\n",
    "Execute main whit:\n",
    "* A JSON file\n",
    "* The algorithm to use:\n",
    "    * bfs\n",
    "    * dfs\n",
    "    * a\n",
    "    * best\n",
    "    * all\n",
    "* A boolean (`True` if you want to plot the problem)\n"
   ]
  },
  {
   "cell_type": "code",
   "execution_count": null,
   "metadata": {},
   "outputs": [],
   "source": [
    "#Main(\"path_to_.json\", \"algorithm\", \"plot_solution\").run()\n",
    "Main(\"./problems/huge/calle_herreros_albacete_2000_2.json\", \"best\", True).run()"
   ]
  }
 ],
 "metadata": {
  "datalore": {
   "base_environment": "default",
   "computation_mode": "JUPYTER",
   "package_manager": "pip",
   "packages": [
    {
     "name": "pqueue",
     "source": "PIP",
     "version": "0.1.7"
    },
    {
     "name": "geopy",
     "source": "PIP",
     "version": "2.2.0"
    }
   ],
   "version": 1
  },
  "kernelspec": {
   "display_name": "Python 3",
   "language": "python",
   "name": "python3"
  },
  "language_info": {
   "codemirror_mode": {
    "name": "ipython",
    "version": 3
   },
   "file_extension": ".py",
   "mimetype": "text/x-python",
   "name": "python",
   "nbconvert_exporter": "python",
   "pygments_lexer": "ipython3",
   "version": "3.12.3"
  },
  "latex_envs": {
   "LaTeX_envs_menu_present": true,
   "autoclose": false,
   "autocomplete": true,
   "bibliofile": "biblio.bib",
   "cite_by": "apalike",
   "current_citInitial": 1,
   "eqLabelWithNumbers": true,
   "eqNumInitial": 1,
   "hotkeys": {
    "equation": "Ctrl-E",
    "itemize": "Ctrl-I"
   },
   "labels_anchors": false,
   "latex_user_defs": false,
   "report_style_numbering": false,
   "user_envs_cfg": false
  }
 },
 "nbformat": 4,
 "nbformat_minor": 4
}
