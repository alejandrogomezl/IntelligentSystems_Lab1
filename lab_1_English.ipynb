{
 "cells": [
  {
   "cell_type": "markdown",
   "metadata": {},
   "source": [
    "# Intelligent Systems\n",
    "\n",
    "## Academic year 2024-2025\n",
    "\n",
    "### Lab 1: State space search\n",
    "\n",
    "#### Teachers\n",
    "\n",
    "* Juan Carlos Alfaro Jimenez: JuanCarlos.Alfaro@uclm.es\n",
    "* Maria Julia Flores Gallego: Julia.Flores@uclm.es\n",
    "* Ismael Garcia Varea: Ismael.Garcia@uclm.es\n",
    "* Adrian Rodriguez Lopez: Adrian.Rodriguez18@alu.uclm.es"
   ]
  },
  {
   "cell_type": "markdown",
   "metadata": {
    "datalore": {
     "hide_input_from_viewers": false,
     "hide_output_from_viewers": false,
     "node_id": "BJiz7lonyeROocVlcYrKWu",
     "type": "MD"
    }
   },
   "source": [
    "## Autonomous driving!"
   ]
  },
  {
   "cell_type": "markdown",
   "metadata": {
    "datalore": {
     "hide_input_from_viewers": false,
     "hide_output_from_viewers": false,
     "node_id": "BJiz7lonyeROocVlcYrKWu",
     "type": "MD"
    }
   },
   "source": [
    "## 1. Introduction\n",
    "\n",
    "Within the framework of a pilot project of the **Ministry of Transport and Sustainable Mobility**, the aim of which is to provide a personalised urban transport service for people with reduced mobility, we have been commissioned to study the deployment of a fleet of autonomous vehicles in different towns and cities of the country based on a series of indicators: population size, population density, demand for the service, etc. These autonomous vehicles must have an intelligent driving system that allows said vehicles to carry a series of people from a point of origin to their destination safely and efficiently.\n",
    "\n",
    "Related to this project, **for the moment, we are asked to design an algorithm that is capable of optimizing the transportation of a person from a place of origin to a specific destination** within a city. In this scenario, the autonomous vehicle will have to navigate a network of urban streets and intersections, where all routes are potentially valid. However, **the system must optimize the path selection** not only to find a valid route, but also to **minimize the travel time**. This implies that the artificial intelligence must consider factors such as distance, the speed allowed on each street and any other relevant factor that may affect the total travel time."
   ]
  },
  {
   "cell_type": "markdown",
   "metadata": {},
   "source": [
    "### 1.1. Goals of this lab assignment\n",
    "\n",
    "* Implement **breadth-first** and **depth-first** uninformed search strategies to find a path from a starting point to a destination location.\n",
    "\n",
    "* Implement **best first** and **A\\*** informed search strategies using appropriate heuristics to solve the problem at hand.\n",
    "\n",
    "In this work we will put into practice state space search techniques. To do so, we will implement and use some of the algorithms seen in topics two and three to solve a classic problem, that is, searching for routes in a graph.\n",
    "\n",
    "We will also analyze and compare the performance of the algorithms by running them on different instances of the problem and providing different initial and objective states.\n",
    "\n",
    "We hope this hands-on practice helps you deepen your understanding of AI search strategies and encourages you to think about how these techniques can be applied in real-world situations to aid in navigation operations and other critical tasks.\n",
    "\n",
    "**Good luck!**"
   ]
  },
  {
   "cell_type": "markdown",
   "metadata": {
    "datalore": {
     "hide_input_from_viewers": false,
     "hide_output_from_viewers": false,
     "node_id": "kf129lUYKXkYfl7kIPcDlq",
     "type": "MD"
    }
   },
   "source": [
    "## 2. Problem description\n",
    "\n",
    "You will have to solve a problem in which an autonomous vehicle must find the fastest route between any two intersections in a city. The search space is defined by an urban road system where the vehicle can move in several directions to reach its destination.\n",
    "\n",
    "More formally, the problem can be defined as:\n",
    "\n",
    "* Initial state: A starting point that represents the vehicle's initial intersection.\n",
    "* States: All intersections in the city are valid for traffic and can be visited by vehicle.\n",
    "* Final state: Arriving at the destination intersection.\n",
    "* Actions: Move from one intersection to another (that must be linked) through the city streets."
   ]
  },
  {
   "cell_type": "markdown",
   "metadata": {},
   "source": [
    "### 2.1. Illustrative example\n",
    "\n",
    "A possible example of this problem could be the one shown in the following image, which shows a part of the city of Albacete:\n",
    "\n",
    "![title](figures/small/paseo_simón_abril_albacete_250_1.png)\n",
    "\n",
    "In this case, the objective would be to go from the intersection with identifier `621983933`, represented in green; to the intersection with identifier `1322977378`, represented in blue.\n",
    "\n",
    "---\n",
    "\n",
    "##### Notes:\n",
    "\n",
    "* The file containing the image must be saved in the path indicated in the code for this cell.\n",
    "\n",
    "---"
   ]
  },
  {
   "cell_type": "markdown",
   "metadata": {
    "datalore": {
     "hide_input_from_viewers": false,
     "hide_output_from_viewers": false,
     "node_id": "6gYL6VoT3okFgLpKvyyAq7",
     "type": "MD"
    }
   },
   "source": [
    "## 3. Development of the lab assignment\n",
    "\n",
    "During the development of this lab, a set of problem instances will be provided. The dimensionality will be variable, and the algorithms implemented must be efficient enough to work correctly with all the instances provided. In the evaluation of the practice, it will be carried out with scenarios different from those provided, generated automatically and of different dimensionality."
   ]
  },
  {
   "cell_type": "markdown",
   "metadata": {},
   "source": [
    "### 3.1 Input Problems\n",
    "\n",
    "Each scenario will be given in a file in `json` format that contains the following information, following the format of a dictionary whose keys are:\n",
    "\n",
    "* `address`: Address used\n",
    "* `distance`: Maximum radius used to draw intersections and segments around the address\n",
    "* `intersections`: List of dictionaries with information on intersections\n",
    "* `segments`: List of dictionaries with information about segments, that is, streets between two intersections\n",
    "* `initial`: Initial intersection\n",
    "* `final`: Final intersection\n",
    "\n",
    "In each dictionary in `intersections`, there are three keys:\n",
    "\n",
    "* `identifier`: Intersection identifier\n",
    "* `longitude`: Length of the intersection\n",
    "* `latitude`: Latitude of the intersection\n",
    "\n",
    "In each dictionary in `segments`, there are four keys:\n",
    "\n",
    "* `origin`: Origin intersection\n",
    "* `destination`: Destination intersection\n",
    "* `distance`: Distance between the two intersections\n",
    "* `speed`: Maximum speed allowed between the two intersections"
   ]
  },
  {
   "cell_type": "markdown",
   "metadata": {
    "datalore": {
     "hide_input_from_viewers": false,
     "hide_output_from_viewers": false,
     "node_id": "XqiqZwKKFJXYVAdvmfoLoK",
     "type": "MD"
    }
   },
   "source": [
    "## 4. Work plan"
   ]
  },
  {
   "cell_type": "markdown",
   "metadata": {},
   "source": [
    "### 4.1. Tasks\n",
    "\n",
    "* State space design:\n",
    "    * Describe how the state space, actions, and cost of actions will be represented.\n",
    "\n",
    "* Implementation of search strategies:\n",
    "    * Implement at least two uninformed search strategies.\n",
    "    * Implement at least two informed search strategies, using appropriate heuristics to find optimal routes.\n",
    "\n",
    "* Experimentation and analysis:\n",
    "    * Analyze the performance of the implemented strategies in terms of optimization of time, (memory) space and routes.\n",
    "    * Compare and contrast the results obtained from different search strategies.\n",
    "\n",
    "* Report:\n",
    "    * Write a report detailing the process followed, the strategies implemented and the results obtained.\n",
    "\n",
    "More details about each task are provided below."
   ]
  },
  {
   "cell_type": "markdown",
   "metadata": {},
   "source": [
    "### 4.2. Evaluation of the practice\n",
    "\n",
    "The evaluation of the practice will be carried out through an individual exam in which the following will be taken into account:\n",
    "\n",
    "* Correct implementation of search strategies: 50%\n",
    "* State space design and heuristics: 25%\n",
    "* Experimentation carried out and analysis of results: 25%\n",
    "\n",
    "All of this is weighted by the level of knowledge that the student offers of the practice in the exam, which is a personal interview."
   ]
  },
  {
   "cell_type": "markdown",
   "metadata": {},
   "source": [
    "### 4.3. Dates\n",
    "\n",
    "* Deadline to submit code: **October 31, 2024**\n",
    "* Deadline for submission of the report: **End of the semester**"
   ]
  },
  {
   "cell_type": "markdown",
   "metadata": {},
   "source": [
    "### 4.4. Problem formalization and examples\n",
    "\n",
    "First, route finding in a city must be formalized as a state-space search problem, defining its basic elements. All implementations must refer to graph search, so it is important to note that repeated states must be handled."
   ]
  },
  {
   "cell_type": "markdown",
   "metadata": {},
   "source": [
    "### 4.5. Implementation\n",
    "\n",
    "The implementation must be done in `Python` language. To do this, you must code your own class structure for formalizing the problem and then implement the algorithms studied in the theory classes to solve the search problem posed. It is recommended to create a class for each entity that defines a search problem, namely, state, action, node, problem, search, etc.\n",
    "\n",
    "**It is recommended to test each of the classes created after their implementation to verify their correct operation before integrating them into the rest of the code.**\n",
    "\n",
    "---\n",
    "\n",
    "##### Notes:\n",
    "\n",
    "* The order of the actions is determined by the destination state whose identifier is the lowest, that is, if different (partial) destinations can be reached at a given point (intersection), they will be visited in increasing numerical order.\n",
    "\n",
    "---"
   ]
  },
  {
   "cell_type": "markdown",
   "metadata": {
    "datalore": {
     "hide_input_from_viewers": false,
     "hide_output_from_viewers": false,
     "node_id": "6q3uoKPoKLFZnX2wHpx2mu",
     "type": "MD"
    }
   },
   "source": [
    "### 4.6. Study and improvement of algorithms\n",
    "\n",
    "Once the algorithms have been implemented, a study of their performance must be carried out. To do this, the quality of the solutions obtained must be compared, as well as the number of nodes expanded for instances of different sizes. Factors such as the maximum problem size that can be solved without causing memory overflow, or the effect of using more complex scenarios, are also important. In addition, alternative implementations can be proposed that increase the efficiency of the algorithms."
   ]
  },
  {
   "cell_type": "markdown",
   "metadata": {
    "datalore": {
     "hide_input_from_viewers": false,
     "hide_output_from_viewers": false,
     "node_id": "TN8nQpEQOYIQynu67Jy1ln",
     "type": "MD"
    }
   },
   "source": [
    "### 4.7. Report\n",
    "\n",
    "In addition to the notebook containing the implementation, the work consists of preparing a report, which will have a later delivery date. We recommend that this report is done at the same time as the lab assignment is developed, both for the code and for the part of studying and improving the algorithms.\n",
    "\n",
    "In particular, among other topics considered of interest to mention, the report must include at least:\n",
    "\n",
    "* A brief description of the problem, a description of the implementation, performance evaluation, and description of improvements, if any.\n",
    "\n",
    "* The formalization of the problem.\n",
    "\n",
    "* For informed search algorithms, at least two heuristics must be provided. In addition to their description and motivation, an analysis must be included indicating whether the proposed heuristic is considered admissible and consistent.\n",
    "\n",
    "* The study of the performance of the implemented algorithms should be based on testing the algorithms in several instances, presenting tables or graphs that summarize the results.\n",
    "\n",
    "**The report should not include figures with source code**, unless it is necessary to explain a key concept such as data structures, efficiency improvements, etc. In such cases, appropriately formatted pseudocode is permitted.\n",
    "\n",
    "**Screenshots are also not recommended**."
   ]
  },
  {
   "cell_type": "markdown",
   "metadata": {
    "datalore": {
     "hide_input_from_viewers": false,
     "hide_output_from_viewers": false,
     "node_id": "Tinwe1v9Wx9ZaC9NcMPB1a",
     "type": "MD"
    }
   },
   "source": [
    "## 5. Presentation and evaluation\n",
    "\n",
    "It is highly recommended to do the work in pairs, although it can be done individually. The exam or interviews for the evaluation will be held the week after the submission, and always individually.\n",
    "\n",
    "Some considerations related to evaluation:\n",
    "\n",
    "* This lab assigment accounts for 40% of the laboratory grade. Lab 2 will require the previous resolution of this part and accounts for 60%.\n",
    "\n",
    "* Attendance at the lab sessions is not mandatory, but it will be the best basis for successfully completing the practicals.\n",
    "\n",
    "* Remember that doubts and questions about laboratory assigments must be resolved mainly in laboratory sessions.\n",
    "\n",
    "* The work will be evaluated during an **individual interview** with the teachers. The dates of the interviews will be published in advance.\n",
    "\n",
    "* We will provide a set of preliminary test cases that must be solved correctly. Otherwise, the work will be considered ineligible for submission.\n",
    "\n",
    "* To obtain a score in the lab assignment you will have to answer, individually, a series of questions about the organization of the code and related issues.\n",
    "\n",
    "* **In non-continuous evaluation, the implementation of the same search strategies will be required plus**:\n",
    "    * Limited depth search\n",
    "    * Iterative depth-first search\n",
    "\n",
    "**Additional features may also be required**."
   ]
  }
 ],
 "metadata": {
  "datalore": {
   "base_environment": "default",
   "computation_mode": "JUPYTER",
   "package_manager": "pip",
   "packages": [
    {
     "name": "pqueue",
     "source": "PIP",
     "version": "0.1.7"
    },
    {
     "name": "geopy",
     "source": "PIP",
     "version": "2.2.0"
    }
   ],
   "version": 1
  },
  "kernelspec": {
   "display_name": "Python 3 (ipykernel)",
   "language": "python",
   "name": "python3"
  },
  "language_info": {
   "codemirror_mode": {
    "name": "ipython",
    "version": 3
   },
   "file_extension": ".py",
   "mimetype": "text/x-python",
   "name": "python",
   "nbconvert_exporter": "python",
   "pygments_lexer": "ipython3",
   "version": "3.8.10"
  },
  "latex_envs": {
   "LaTeX_envs_menu_present": true,
   "autoclose": false,
   "autocomplete": true,
   "bibliofile": "biblio.bib",
   "cite_by": "apalike",
   "current_citInitial": 1,
   "eqLabelWithNumbers": true,
   "eqNumInitial": 1,
   "hotkeys": {
    "equation": "Ctrl-E",
    "itemize": "Ctrl-I"
   },
   "labels_anchors": false,
   "latex_user_defs": false,
   "report_style_numbering": false,
   "user_envs_cfg": false
  },
  "vscode": {
   "interpreter": {
    "hash": "b2fdad1bafe026d053b4602f2179e2296ea0334d2d9ae4e6300a3a67b6dd2231"
   }
  }
 },
 "nbformat": 4,
 "nbformat_minor": 4
}
